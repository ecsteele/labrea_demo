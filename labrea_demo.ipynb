{
 "cells": [
  {
   "cell_type": "markdown",
   "id": "81d716b8-ac2f-43b0-a5b8-415fea59fc82",
   "metadata": {
    "editable": true,
    "slideshow": {
     "slide_type": "slide"
    },
    "tags": []
   },
   "source": [
    "# Labrea\n",
    "https://github.com/8451/labrea\n",
    "\n",
    "- Q: What is Labrea?\n",
    "- A: A framework for declarative, functional dataset definitions.\n",
    "\n",
    "What does that mean? Let's look at an example."
   ]
  },
  {
   "cell_type": "code",
   "execution_count": 1,
   "id": "f0666fc5-9e08-40de-b040-4d41e5047153",
   "metadata": {
    "editable": true,
    "slideshow": {
     "slide_type": ""
    },
    "tags": []
   },
   "outputs": [
    {
     "data": {
      "text/html": [
       "<div>\n",
       "<style scoped>\n",
       "    .dataframe tbody tr th:only-of-type {\n",
       "        vertical-align: middle;\n",
       "    }\n",
       "\n",
       "    .dataframe tbody tr th {\n",
       "        vertical-align: top;\n",
       "    }\n",
       "\n",
       "    .dataframe thead th {\n",
       "        text-align: right;\n",
       "    }\n",
       "</style>\n",
       "<table border=\"1\" class=\"dataframe\">\n",
       "  <thead>\n",
       "    <tr style=\"text-align: right;\">\n",
       "      <th></th>\n",
       "      <th>store_id</th>\n",
       "      <th>region</th>\n",
       "    </tr>\n",
       "  </thead>\n",
       "  <tbody>\n",
       "    <tr>\n",
       "      <th>0</th>\n",
       "      <td>1</td>\n",
       "      <td>North</td>\n",
       "    </tr>\n",
       "    <tr>\n",
       "      <th>1</th>\n",
       "      <td>2</td>\n",
       "      <td>North</td>\n",
       "    </tr>\n",
       "    <tr>\n",
       "      <th>2</th>\n",
       "      <td>3</td>\n",
       "      <td>South</td>\n",
       "    </tr>\n",
       "    <tr>\n",
       "      <th>3</th>\n",
       "      <td>4</td>\n",
       "      <td>South</td>\n",
       "    </tr>\n",
       "    <tr>\n",
       "      <th>4</th>\n",
       "      <td>5</td>\n",
       "      <td>East</td>\n",
       "    </tr>\n",
       "    <tr>\n",
       "      <th>5</th>\n",
       "      <td>6</td>\n",
       "      <td>East</td>\n",
       "    </tr>\n",
       "    <tr>\n",
       "      <th>6</th>\n",
       "      <td>7</td>\n",
       "      <td>West</td>\n",
       "    </tr>\n",
       "    <tr>\n",
       "      <th>7</th>\n",
       "      <td>8</td>\n",
       "      <td>West</td>\n",
       "    </tr>\n",
       "  </tbody>\n",
       "</table>\n",
       "</div>"
      ],
      "text/plain": [
       "   store_id region\n",
       "0         1  North\n",
       "1         2  North\n",
       "2         3  South\n",
       "3         4  South\n",
       "4         5   East\n",
       "5         6   East\n",
       "6         7   West\n",
       "7         8   West"
      ]
     },
     "metadata": {},
     "output_type": "display_data"
    },
    {
     "data": {
      "text/html": [
       "<div>\n",
       "<style scoped>\n",
       "    .dataframe tbody tr th:only-of-type {\n",
       "        vertical-align: middle;\n",
       "    }\n",
       "\n",
       "    .dataframe tbody tr th {\n",
       "        vertical-align: top;\n",
       "    }\n",
       "\n",
       "    .dataframe thead th {\n",
       "        text-align: right;\n",
       "    }\n",
       "</style>\n",
       "<table border=\"1\" class=\"dataframe\">\n",
       "  <thead>\n",
       "    <tr style=\"text-align: right;\">\n",
       "      <th></th>\n",
       "      <th>transaction_id</th>\n",
       "      <th>store_id</th>\n",
       "      <th>amount</th>\n",
       "      <th>date</th>\n",
       "    </tr>\n",
       "  </thead>\n",
       "  <tbody>\n",
       "    <tr>\n",
       "      <th>0</th>\n",
       "      <td>1</td>\n",
       "      <td>2</td>\n",
       "      <td>120.50</td>\n",
       "      <td>2023-04-01</td>\n",
       "    </tr>\n",
       "    <tr>\n",
       "      <th>1</th>\n",
       "      <td>2</td>\n",
       "      <td>4</td>\n",
       "      <td>95.75</td>\n",
       "      <td>2023-04-01</td>\n",
       "    </tr>\n",
       "    <tr>\n",
       "      <th>2</th>\n",
       "      <td>3</td>\n",
       "      <td>1</td>\n",
       "      <td>210.00</td>\n",
       "      <td>2023-04-01</td>\n",
       "    </tr>\n",
       "    <tr>\n",
       "      <th>3</th>\n",
       "      <td>4</td>\n",
       "      <td>3</td>\n",
       "      <td>180.25</td>\n",
       "      <td>2023-04-01</td>\n",
       "    </tr>\n",
       "    <tr>\n",
       "      <th>4</th>\n",
       "      <td>5</td>\n",
       "      <td>5</td>\n",
       "      <td>300.50</td>\n",
       "      <td>2023-04-01</td>\n",
       "    </tr>\n",
       "  </tbody>\n",
       "</table>\n",
       "</div>"
      ],
      "text/plain": [
       "   transaction_id  store_id  amount        date\n",
       "0               1         2  120.50  2023-04-01\n",
       "1               2         4   95.75  2023-04-01\n",
       "2               3         1  210.00  2023-04-01\n",
       "3               4         3  180.25  2023-04-01\n",
       "4               5         5  300.50  2023-04-01"
      ]
     },
     "metadata": {},
     "output_type": "display_data"
    }
   ],
   "source": [
    "import pandas as pd\n",
    "\n",
    "stores = pd.read_csv('stores.csv')\n",
    "transactions = pd.read_csv('transactions.csv')\n",
    "display(stores)\n",
    "display(transactions.head(5))"
   ]
  },
  {
   "cell_type": "markdown",
   "id": "62ae1a98-fe75-47ea-af88-839e512e7594",
   "metadata": {
    "editable": true,
    "slideshow": {
     "slide_type": "slide"
    },
    "tags": []
   },
   "source": [
    "## The simple approach\n",
    "We can put everything into one file, but that's not ideal"
   ]
  },
  {
   "cell_type": "code",
   "execution_count": 2,
   "id": "423d5d51-7dc7-48de-af26-a5d0c0da1010",
   "metadata": {
    "editable": true,
    "slideshow": {
     "slide_type": ""
    },
    "tags": []
   },
   "outputs": [
    {
     "data": {
      "text/html": [
       "<div>\n",
       "<style scoped>\n",
       "    .dataframe tbody tr th:only-of-type {\n",
       "        vertical-align: middle;\n",
       "    }\n",
       "\n",
       "    .dataframe tbody tr th {\n",
       "        vertical-align: top;\n",
       "    }\n",
       "\n",
       "    .dataframe thead th {\n",
       "        text-align: right;\n",
       "    }\n",
       "</style>\n",
       "<table border=\"1\" class=\"dataframe\">\n",
       "  <thead>\n",
       "    <tr style=\"text-align: right;\">\n",
       "      <th></th>\n",
       "      <th>region</th>\n",
       "      <th>amount</th>\n",
       "    </tr>\n",
       "  </thead>\n",
       "  <tbody>\n",
       "    <tr>\n",
       "      <th>0</th>\n",
       "      <td>East</td>\n",
       "      <td>6152.75</td>\n",
       "    </tr>\n",
       "    <tr>\n",
       "      <th>1</th>\n",
       "      <td>North</td>\n",
       "      <td>6032.00</td>\n",
       "    </tr>\n",
       "    <tr>\n",
       "      <th>2</th>\n",
       "      <td>South</td>\n",
       "      <td>6279.00</td>\n",
       "    </tr>\n",
       "    <tr>\n",
       "      <th>3</th>\n",
       "      <td>West</td>\n",
       "      <td>6203.00</td>\n",
       "    </tr>\n",
       "  </tbody>\n",
       "</table>\n",
       "</div>"
      ],
      "text/plain": [
       "  region   amount\n",
       "0   East  6152.75\n",
       "1  North  6032.00\n",
       "2  South  6279.00\n",
       "3   West  6203.00"
      ]
     },
     "metadata": {},
     "output_type": "display_data"
    },
    {
     "name": "stdout",
     "output_type": "stream",
     "text": [
      "Top region is: South\n"
     ]
    },
    {
     "data": {
      "text/html": [
       "<div>\n",
       "<style scoped>\n",
       "    .dataframe tbody tr th:only-of-type {\n",
       "        vertical-align: middle;\n",
       "    }\n",
       "\n",
       "    .dataframe tbody tr th {\n",
       "        vertical-align: top;\n",
       "    }\n",
       "\n",
       "    .dataframe thead th {\n",
       "        text-align: right;\n",
       "    }\n",
       "</style>\n",
       "<table border=\"1\" class=\"dataframe\">\n",
       "  <thead>\n",
       "    <tr style=\"text-align: right;\">\n",
       "      <th></th>\n",
       "      <th>store_id</th>\n",
       "      <th>amount</th>\n",
       "    </tr>\n",
       "  </thead>\n",
       "  <tbody>\n",
       "    <tr>\n",
       "      <th>0</th>\n",
       "      <td>3</td>\n",
       "      <td>3331.0</td>\n",
       "    </tr>\n",
       "    <tr>\n",
       "      <th>1</th>\n",
       "      <td>4</td>\n",
       "      <td>2948.0</td>\n",
       "    </tr>\n",
       "  </tbody>\n",
       "</table>\n",
       "</div>"
      ],
      "text/plain": [
       "   store_id  amount\n",
       "0         3  3331.0\n",
       "1         4  2948.0"
      ]
     },
     "metadata": {},
     "output_type": "display_data"
    },
    {
     "name": "stdout",
     "output_type": "stream",
     "text": [
      "The top store in the top region is store number 3 with 3331.0 sales\n"
     ]
    }
   ],
   "source": [
    "import pandas as pd\n",
    "\n",
    "stores = pd.read_csv('stores.csv')\n",
    "transactions = pd.read_csv('transactions.csv')\n",
    "combined_transactions = pd.merge(transactions, stores, on='store_id')\n",
    "\n",
    "sales_by_region = combined_transactions.groupby('region')['amount'].sum().reset_index()\n",
    "display(sales_by_region)\n",
    "top_region = sales_by_region.loc[sales_by_region['amount'].idxmax()]['region']\n",
    "print(f'Top region is: {top_region}')\n",
    "\n",
    "sales_in_top_region = combined_transactions[combined_transactions['region'] == top_region]\n",
    "sales_in_top_region_top_store = sales_in_top_region.groupby('store_id')['amount'].sum().reset_index()\n",
    "display(sales_in_top_region_top_store)\n",
    "top_store_id, top_store_amount = sales_in_top_region_top_store.loc[sales_in_top_region_top_store['amount'].idxmax()]\n",
    "print(f'The top store in the top region is store number {int(top_store_id)} with {top_store_amount} sales')"
   ]
  },
  {
   "cell_type": "markdown",
   "id": "36b03ce6-96b9-47ee-b5d2-8889c12fbd4f",
   "metadata": {
    "editable": true,
    "slideshow": {
     "slide_type": "slide"
    },
    "tags": []
   },
   "source": [
    "That example had some extra code to help show the data, let's cut it down to just what's required for our ultimate answer"
   ]
  },
  {
   "cell_type": "code",
   "execution_count": 3,
   "id": "eb247fa5-5150-41db-99aa-02cd81be15c3",
   "metadata": {
    "editable": true,
    "slideshow": {
     "slide_type": ""
    },
    "tags": []
   },
   "outputs": [
    {
     "name": "stdout",
     "output_type": "stream",
     "text": [
      "The top store in the top region is store number 3 with 3331.0 sales\n"
     ]
    }
   ],
   "source": [
    "import pandas as pd\n",
    "\n",
    "stores = pd.read_csv('stores.csv')\n",
    "transactions = pd.read_csv('transactions.csv')\n",
    "combined_transactions = pd.merge(transactions, stores, on='store_id')\n",
    "\n",
    "top_region = combined_transactions.groupby('region')['amount'].sum().idxmax()\n",
    "\n",
    "sales_in_top_region_top_store = combined_transactions[combined_transactions['region'] == top_region].groupby('store_id')['amount'].sum().reset_index()\n",
    "top_store_id, top_store_amount = sales_in_top_region_top_store.loc[sales_in_top_region_top_store['amount'].idxmax()]\n",
    "\n",
    "print(f'The top store in the top region is store number {int(top_store_id)} with {top_store_amount} sales')"
   ]
  },
  {
   "cell_type": "markdown",
   "id": "97b324a4-74f4-431b-bf3e-70efba7bbda2",
   "metadata": {
    "editable": true,
    "slideshow": {
     "slide_type": "slide"
    },
    "tags": []
   },
   "source": [
    "## A little bit better\n",
    "\n",
    "Our first implementation would be hard to test, so let's rewrite it in a functional style."
   ]
  },
  {
   "cell_type": "code",
   "execution_count": 4,
   "id": "a404369e-6331-401f-a5e7-a78ddd9be0e8",
   "metadata": {
    "editable": true,
    "slideshow": {
     "slide_type": ""
    },
    "tags": []
   },
   "outputs": [
    {
     "name": "stdout",
     "output_type": "stream",
     "text": [
      "The top store in the top region is store number 3 with 3331.0 sales\n"
     ]
    }
   ],
   "source": [
    "import pandas as pd\n",
    "\n",
    "def get_stores(input_path: str = 'stores.csv') -> pd.DataFrame:\n",
    "    return pd.read_csv(input_path)\n",
    "\n",
    "def get_transactions(input_path: str = 'transactions.csv') -> pd.DataFrame:\n",
    "    return pd.read_csv(input_path)\n",
    "\n",
    "def combine_transactions(stores: pd.DataFrame, transactions: pd.DataFrame) -> pd.DataFrame:\n",
    "    return pd.merge(transactions, stores, on='store_id')\n",
    "\n",
    "def find_top_region(combined_transactions: pd.DataFrame) -> str:\n",
    "    return combined_transactions.groupby('region')['amount'].sum().idxmax()\n",
    "\n",
    "def find_top_store_in_top_region(combined_transactions: pd.DataFrame, top_region: str) -> tuple[int, float]:\n",
    "    sales_in_top_region_top_store = combined_transactions[combined_transactions['region'] == top_region].groupby('store_id')['amount'].sum().reset_index()\n",
    "    top_store_id, top_store_amount = sales_in_top_region_top_store.loc[sales_in_top_region_top_store['amount'].idxmax()]\n",
    "    return int(top_store_id), top_store_amount\n",
    "\n",
    "stores = get_stores()\n",
    "transactions = get_transactions()\n",
    "combined_transactions = combine_transactions(stores, transactions)\n",
    "top_region = find_top_region(combined_transactions)\n",
    "top_store, top_store_amount = find_top_store_in_top_region(combined_transactions, top_region)\n",
    "\n",
    "print(f'The top store in the top region is store number {int(top_store_id)} with {top_store_amount} sales')"
   ]
  },
  {
   "cell_type": "markdown",
   "id": "7ea45830-54c3-461f-b0ea-b4b4e342cb90",
   "metadata": {
    "editable": true,
    "slideshow": {
     "slide_type": ""
    },
    "tags": []
   },
   "source": [
    "Our functional code would be much easier to test, but invoking it still required us to chain together a bunch of calls while saving intermediate values.\n",
    "\n",
    "We also have a number of implict dependencies between these functions. In this simple project it's easy to tell that `combine_transactions()` uses the results from `get_stores()` and `get_transactions()`. Across a much larger codebase, these things become less clear."
   ]
  },
  {
   "cell_type": "markdown",
   "id": "f62f0c46-d3c1-400c-8564-b34cd6fee148",
   "metadata": {
    "editable": true,
    "slideshow": {
     "slide_type": "slide"
    },
    "tags": []
   },
   "source": [
    "We could make the dependencies explicit by calling base functions directly within the functions where they're used, but then we're redoing work. Let's write a quick decorator to demonstrate that. For our first implementation, we should see each function only being used once."
   ]
  },
  {
   "cell_type": "code",
   "execution_count": 5,
   "id": "30b9d517-a773-46f4-b1c8-675069d6ea0d",
   "metadata": {
    "editable": true,
    "slideshow": {
     "slide_type": "slide"
    },
    "tags": []
   },
   "outputs": [
    {
     "name": "stdout",
     "output_type": "stream",
     "text": [
      "get_stores called\n",
      "get_transactions called\n",
      "combine_transactions called\n",
      "find_top_region called\n",
      "find_top_store_in_top_region called\n",
      "\n",
      "The top store in the top region is store number 3 with 3331.0 sales\n"
     ]
    }
   ],
   "source": [
    "from functools import wraps\n",
    "import pandas as pd\n",
    "\n",
    "def log_func_call(func):\n",
    "    @wraps(func)\n",
    "    def wrapper(*args, **kwargs):\n",
    "        print(f'{func.__name__} called')\n",
    "        return func(*args, **kwargs)\n",
    "    return wrapper\n",
    "\n",
    "@log_func_call\n",
    "def get_stores(input_path: str = 'stores.csv') -> pd.DataFrame:\n",
    "    return pd.read_csv(input_path)\n",
    "\n",
    "@log_func_call\n",
    "def get_transactions(input_path: str = 'transactions.csv') -> pd.DataFrame:\n",
    "    return pd.read_csv(input_path)\n",
    "\n",
    "@log_func_call\n",
    "def combine_transactions(stores: pd.DataFrame, transactions: pd.DataFrame) -> pd.DataFrame:\n",
    "    return pd.merge(transactions, stores, on='store_id')\n",
    "\n",
    "@log_func_call\n",
    "def find_top_region(combined_transactions: pd.DataFrame) -> str:\n",
    "    return combined_transactions.groupby('region')['amount'].sum().idxmax()\n",
    "\n",
    "@log_func_call\n",
    "def find_top_store_in_top_region(combined_transactions: pd.DataFrame, top_region: str) -> tuple[int, float]:\n",
    "    sales_in_top_region_top_store = combined_transactions[combined_transactions['region'] == top_region].groupby('store_id')['amount'].sum().reset_index()\n",
    "    top_store_id, top_store_amount = sales_in_top_region_top_store.loc[sales_in_top_region_top_store['amount'].idxmax()]\n",
    "    return int(top_store_id), top_store_amount\n",
    "\n",
    "stores = get_stores()\n",
    "transactions = get_transactions()\n",
    "combined_transactions = combine_transactions(stores, transactions)\n",
    "top_region = find_top_region(combined_transactions)\n",
    "top_store, top_store_amount = find_top_store_in_top_region(combined_transactions, top_region)\n",
    "\n",
    "print()\n",
    "print(f'The top store in the top region is store number {int(top_store_id)} with {top_store_amount} sales')"
   ]
  },
  {
   "cell_type": "markdown",
   "id": "a766ae0f-d1a3-4143-9aeb-267eaea06402",
   "metadata": {
    "editable": true,
    "slideshow": {
     "slide_type": "slide"
    },
    "tags": []
   },
   "source": [
    "Now let's rewrite those functions to explicitly call their dependencies. The relationships are now more clear, and we don't need to chain together our intermediate steps. We're using a declarative style, but now we're duplicating function calls, as we can see from the decorator."
   ]
  },
  {
   "cell_type": "code",
   "execution_count": 6,
   "id": "50b4f72a-36bb-4772-82f8-ad762448947d",
   "metadata": {
    "editable": true,
    "slideshow": {
     "slide_type": ""
    },
    "tags": []
   },
   "outputs": [
    {
     "name": "stdout",
     "output_type": "stream",
     "text": [
      "find_top_store_in_top_region called\n",
      "combine_transactions called\n",
      "get_transactions called\n",
      "get_stores called\n",
      "find_top_region called\n",
      "combine_transactions called\n",
      "get_transactions called\n",
      "get_stores called\n",
      "\n",
      "The top store in the top region is store number 3 with 3331.0 sales\n"
     ]
    }
   ],
   "source": [
    "import pandas as pd\n",
    "\n",
    "@log_func_call\n",
    "def get_stores(input_path: str = 'stores.csv') -> pd.DataFrame:\n",
    "    return pd.read_csv(input_path)\n",
    "\n",
    "@log_func_call\n",
    "def get_transactions(input_path: str = 'transactions.csv') -> pd.DataFrame:\n",
    "    return pd.read_csv(input_path)\n",
    "\n",
    "@log_func_call\n",
    "def combine_transactions() -> pd.DataFrame:\n",
    "    return pd.merge(get_transactions(), get_stores(), on='store_id')\n",
    "\n",
    "@log_func_call\n",
    "def find_top_region() -> str:\n",
    "    return combine_transactions().groupby('region')['amount'].sum().idxmax()\n",
    "\n",
    "@log_func_call\n",
    "def find_top_store_in_top_region() -> tuple[int, float]:\n",
    "    combined_transactions = combine_transactions()\n",
    "    top_region = find_top_region()\n",
    "    sales_in_top_region_top_store = combined_transactions[combined_transactions['region'] == top_region].groupby('store_id')['amount'].sum().reset_index()\n",
    "    top_store_id, top_store_amount = sales_in_top_region_top_store.loc[sales_in_top_region_top_store['amount'].idxmax()]\n",
    "    return int(top_store_id), top_store_amount\n",
    "\n",
    "top_store, top_store_amount = find_top_store_in_top_region()\n",
    "\n",
    "print()\n",
    "print(f'The top store in the top region is store number {int(top_store_id)} with {top_store_amount} sales')"
   ]
  },
  {
   "cell_type": "markdown",
   "id": "fc9c6f56-893f-4436-9b6c-4a28024be2c5",
   "metadata": {
    "editable": true,
    "slideshow": {
     "slide_type": "slide"
    },
    "tags": []
   },
   "source": [
    "## Using Labrea\n",
    "\n",
    "It would be nice if we could be functional, declarative, and not do unnecessary rework. Labrea can help. We'll use the `@dataset` decorator to annotate our functions. When we reference those functions, we'll use the default value for the arg to explicitly denote the dependency between our datasets. This is somewhat similar to FastAPI's dependency injection.\n",
    "\n",
    "You can also see that where datasets need other arguments, we're using Labrea's `Option` class to reference those. We won't be calling those earlier steps explicitly, so instead we'll need to make sure we pass in all of the required values as part of an option config. That config will be passed as an argument to the ultimate dataset that we're calling."
   ]
  },
  {
   "cell_type": "code",
   "execution_count": 8,
   "id": "fdfa63a4-6656-4079-9454-9f5fc74dab18",
   "metadata": {
    "editable": true,
    "slideshow": {
     "slide_type": "fragment"
    },
    "tags": []
   },
   "outputs": [
    {
     "name": "stdout",
     "output_type": "stream",
     "text": [
      "The top store in the top region is store number 3 with 3331.0 sales\n"
     ]
    }
   ],
   "source": [
    "import pandas as pd\n",
    "from labrea import dataset, Option\n",
    "\n",
    "@dataset\n",
    "def get_stores(input_path: str = Option('PATHS.STORES')) -> pd.DataFrame:\n",
    "    return pd.read_csv(input_path)\n",
    "\n",
    "@dataset\n",
    "def get_transactions(input_path: str = Option('PATHS.TRANSACTIONS')) -> pd.DataFrame:\n",
    "    return pd.read_csv(input_path)\n",
    "\n",
    "@dataset\n",
    "def combine_transactions(stores: pd.DataFrame = get_stores, transactions: pd.DataFrame = get_transactions) -> pd.DataFrame:\n",
    "    return pd.merge(transactions, stores, on='store_id')\n",
    "\n",
    "@dataset\n",
    "def find_top_region(combined_transactions: pd.DataFrame = combine_transactions) -> str:\n",
    "    return combined_transactions.groupby('region')['amount'].sum().idxmax()\n",
    "\n",
    "@dataset\n",
    "def find_top_store_in_top_region(combined_transactions: pd.DataFrame = combine_transactions, top_region: str = find_top_region) -> tuple[int, float]:\n",
    "    sales_in_top_region_top_store = combined_transactions[combined_transactions['region'] == top_region].groupby('store_id')['amount'].sum().reset_index()\n",
    "    top_store_id, top_store_amount = sales_in_top_region_top_store.loc[sales_in_top_region_top_store['amount'].idxmax()]\n",
    "    return int(top_store_id), top_store_amount\n",
    "\n",
    "app_config = {\n",
    "    'PATHS': {\n",
    "        'STORES': 'stores.csv',\n",
    "        'TRANSACTIONS': 'transactions.csv',\n",
    "    }\n",
    "}\n",
    "\n",
    "top_store, top_store_amount = find_top_store_in_top_region(app_config)\n",
    "\n",
    "print(f'The top store in the top region is store number {int(top_store_id)} with {top_store_amount} sales')"
   ]
  },
  {
   "cell_type": "markdown",
   "id": "d6582194-d78b-4a53-bd48-78eb8849bec0",
   "metadata": {
    "editable": true,
    "slideshow": {
     "slide_type": "slide"
    },
    "tags": []
   },
   "source": [
    "And to demonstrate that Labrea is caching the results, so that we're no longer duplicating work:"
   ]
  },
  {
   "cell_type": "code",
   "execution_count": 9,
   "id": "adc6cd43-717b-41f5-b25c-e8152a67c1dd",
   "metadata": {
    "editable": true,
    "slideshow": {
     "slide_type": ""
    },
    "tags": []
   },
   "outputs": [
    {
     "name": "stdout",
     "output_type": "stream",
     "text": [
      "get_stores called\n",
      "get_transactions called\n",
      "combine_transactions called\n",
      "find_top_region called\n",
      "find_top_store_in_top_region called\n",
      "\n",
      "The top store in the top region is store number 3 with 3331.0 sales\n"
     ]
    }
   ],
   "source": [
    "import pandas as pd\n",
    "from labrea import dataset, Option\n",
    "\n",
    "@dataset\n",
    "@log_func_call\n",
    "def get_stores(input_path: str = Option('PATHS.STORES')) -> pd.DataFrame:\n",
    "    return pd.read_csv(input_path)\n",
    "\n",
    "@dataset\n",
    "@log_func_call\n",
    "def get_transactions(input_path: str = Option('PATHS.TRANSACTIONS')) -> pd.DataFrame:\n",
    "    return pd.read_csv(input_path)\n",
    "\n",
    "@dataset\n",
    "@log_func_call\n",
    "def combine_transactions(stores: pd.DataFrame = get_stores, transactions: pd.DataFrame = get_transactions) -> pd.DataFrame:\n",
    "    return pd.merge(transactions, stores, on='store_id')\n",
    "\n",
    "@dataset\n",
    "@log_func_call\n",
    "def find_top_region(combined_transactions: pd.DataFrame = combine_transactions) -> str:\n",
    "    return combined_transactions.groupby('region')['amount'].sum().idxmax()\n",
    "\n",
    "@dataset\n",
    "@log_func_call\n",
    "def find_top_store_in_top_region(combined_transactions: pd.DataFrame = combine_transactions, top_region: str = find_top_region) -> tuple[int, float]:\n",
    "    sales_in_top_region_top_store = combined_transactions[combined_transactions['region'] == top_region].groupby('store_id')['amount'].sum().reset_index()\n",
    "    top_store_id, top_store_amount = sales_in_top_region_top_store.loc[sales_in_top_region_top_store['amount'].idxmax()]\n",
    "    return int(top_store_id), top_store_amount\n",
    "\n",
    "app_config = {\n",
    "    'PATHS': {\n",
    "        'STORES': 'stores.csv',\n",
    "        'TRANSACTIONS': 'transactions.csv',\n",
    "    }\n",
    "}\n",
    "\n",
    "top_store, top_store_amount = find_top_store_in_top_region(app_config)\n",
    "\n",
    "print()\n",
    "print(f'The top store in the top region is store number {int(top_store_id)} with {top_store_amount} sales')"
   ]
  },
  {
   "cell_type": "markdown",
   "id": "904ccc9d-3ef2-4747-9a57-d2a1146ab639",
   "metadata": {
    "editable": true,
    "slideshow": {
     "slide_type": "slide"
    },
    "tags": []
   },
   "source": [
    "# Labrea\n",
    "https://github.com/8451/labrea\n",
    "\n",
    "So that's Labrea. What we've seen here is a subset of the features of Labrea. It also has:\n",
    "- Dataset classes\n",
    "- Abstract/parameterizable datasets\n",
    "- Pipelines of sequential transformations\n",
    "- Overloads\n",
    "- Callbacks\n",
    "\n",
    "Even if you don't use *this* library, I think a lot of us in the data space could benefit from adopting a declarative style for our data processes."
   ]
  }
 ],
 "metadata": {
  "kernelspec": {
   "display_name": "Python 3 (ipykernel)",
   "language": "python",
   "name": "python3"
  },
  "language_info": {
   "codemirror_mode": {
    "name": "ipython",
    "version": 3
   },
   "file_extension": ".py",
   "mimetype": "text/x-python",
   "name": "python",
   "nbconvert_exporter": "python",
   "pygments_lexer": "ipython3",
   "version": "3.10.14"
  }
 },
 "nbformat": 4,
 "nbformat_minor": 5
}
